{
 "cells": [
  {
   "cell_type": "code",
   "execution_count": 12,
   "metadata": {},
   "outputs": [],
   "source": [
    "from bs4 import BeautifulSoup as bs\n",
    "import requests as req\n",
    "import pandas as pd\n",
    "import pyodbc as db\n",
    "\n",
    "url = \"https://www.rhinohockeysiouxfalls.com/21-22-crl-winter-league-stats/\"\n",
    "\n",
    "request = req.get(url).text\n",
    "soup = bs(request, \"lxml\")\n",
    "\n",
    "# Database Connection Settings\n",
    "serverName = \"DESKTOP-8FK7M67\\SQLEXPRESS\"\n",
    "databaseName = \"RhinoHockey\"\n",
    "connectionString = \"Driver={{SQL Server}};Server={};Database={}\".format(serverName, databaseName)\n",
    "\n",
    "# DB Operations\n",
    "cnxn = db.connect(connectionString)\n",
    "\n",
    "cursor = cnxn.cursor()\n",
    "\n",
    "cursor.execute('''DROP TABLE IF EXISTS dbo.Test CREATE TABLE dbo.Test (Team VARCHAR(255), Wins INT, Loses INT)''')\n",
    "\n",
    "cursor.commit()\n",
    "cursor.close()"
   ]
  }
 ],
 "metadata": {
  "interpreter": {
   "hash": "b3ba2566441a7c06988d0923437866b63cedc61552a5af99d1f4fb67d367b25f"
  },
  "kernelspec": {
   "display_name": "Python 3.9.7 64-bit ('base': conda)",
   "language": "python",
   "name": "python3"
  },
  "language_info": {
   "codemirror_mode": {
    "name": "ipython",
    "version": 3
   },
   "file_extension": ".py",
   "mimetype": "text/x-python",
   "name": "python",
   "nbconvert_exporter": "python",
   "pygments_lexer": "ipython3",
   "version": "3.9.7"
  },
  "orig_nbformat": 4
 },
 "nbformat": 4,
 "nbformat_minor": 2
}
